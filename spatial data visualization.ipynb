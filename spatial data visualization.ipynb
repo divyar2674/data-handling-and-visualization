{
  "nbformat": 4,
  "nbformat_minor": 0,
  "metadata": {
    "colab": {
      "provenance": [],
      "authorship_tag": "ABX9TyNY7rFNMNocXsHZpifC+yJi",
      "include_colab_link": true
    },
    "kernelspec": {
      "name": "python3",
      "display_name": "Python 3"
    },
    "language_info": {
      "name": "python"
    }
  },
  "cells": [
    {
      "cell_type": "markdown",
      "metadata": {
        "id": "view-in-github",
        "colab_type": "text"
      },
      "source": [
        "<a href=\"https://colab.research.google.com/github/divyar2674/data-handling-and-visualization/blob/main/spatial%20data%20visualization.ipynb\" target=\"_parent\"><img src=\"https://colab.research.google.com/assets/colab-badge.svg\" alt=\"Open In Colab\"/></a>"
      ]
    },
    {
      "cell_type": "code",
      "execution_count": 6,
      "metadata": {
        "colab": {
          "base_uri": "https://localhost:8080/"
        },
        "id": "eGjpSqJleBxA",
        "outputId": "fcff2cc1-117c-450c-c179-f129b519804c"
      },
      "outputs": [
        {
          "output_type": "stream",
          "name": "stdout",
          "text": [
            "Requirement already satisfied: folium in /usr/local/lib/python3.10/dist-packages (0.14.0)\n",
            "Requirement already satisfied: branca>=0.6.0 in /usr/local/lib/python3.10/dist-packages (from folium) (0.7.2)\n",
            "Requirement already satisfied: jinja2>=2.9 in /usr/local/lib/python3.10/dist-packages (from folium) (3.1.3)\n",
            "Requirement already satisfied: numpy in /usr/local/lib/python3.10/dist-packages (from folium) (1.25.2)\n",
            "Requirement already satisfied: requests in /usr/local/lib/python3.10/dist-packages (from folium) (2.31.0)\n",
            "Requirement already satisfied: MarkupSafe>=2.0 in /usr/local/lib/python3.10/dist-packages (from jinja2>=2.9->folium) (2.1.5)\n",
            "Requirement already satisfied: charset-normalizer<4,>=2 in /usr/local/lib/python3.10/dist-packages (from requests->folium) (3.3.2)\n",
            "Requirement already satisfied: idna<4,>=2.5 in /usr/local/lib/python3.10/dist-packages (from requests->folium) (3.7)\n",
            "Requirement already satisfied: urllib3<3,>=1.21.1 in /usr/local/lib/python3.10/dist-packages (from requests->folium) (2.0.7)\n",
            "Requirement already satisfied: certifi>=2017.4.17 in /usr/local/lib/python3.10/dist-packages (from requests->folium) (2024.2.2)\n"
          ]
        }
      ],
      "source": [
        "!pip install folium"
      ]
    },
    {
      "cell_type": "code",
      "source": [
        "import folium\n",
        "\n",
        "\n",
        "A= 12.9716\n",
        "B= 77.5946\n",
        "map = folium.Map(location=[A,B], zoom_start=15)\n",
        "folium.Marker(location=[A,B], popup='Your Place').add_to(map) #Vidhana Soudha ( lit. 'Legislative House') is a building in Bangalore, India which serves as the seat of the state legislature of Karnataka\n",
        "places = [\n",
        "    {\"name\": \"lal bagh\",\"image\":'https://static.toiimg.com/photo/24483205.cms','desc':\"Internationally renowned as a centre for botanical artwork and conservation of plants\",'cor':[12.951303, 77.587866]},\n",
        "    {\"name\": \"vidhana soudha\",'image':'https://karnatakatourism.org/wp-content/uploads/2020/06/Bengaluru-Lalbhag-1.jpg','desc':\"#Vidhana Soudha ( lit. 'Legislative House') is a building in Bangalore, India which serves as the seat of the state legislature of Karnataka\",\"cor\":[12.9796,77.5908]},\n",
        "]\n",
        "for i in places:\n",
        "    html = f\"\"\"<img src=\"{i['image']}\" alt=\"{i['name']}\" style=\"width:100px;height:100px;\"><br>{i['name']}\"\"\"\n",
        "    iframe = folium.IFrame(html=html, width=200, height=150)\n",
        "    popup = folium.Popup(iframe, max_width=2650)\n",
        "    icon = folium.Icon(color=\"black\")\n",
        "    marker = folium.Marker(i[\"cor\"], popup=popup, icon=icon)\n",
        "    map.add_child(marker)\n",
        "map\n"
      ],
      "metadata": {
        "colab": {
          "base_uri": "https://localhost:8080/",
          "height": 762
        },
        "id": "QsPcYYjeeYZG",
        "outputId": "557ee334-a935-4677-a89b-b19c6ca2c30e"
      },
      "execution_count": 36,
      "outputs": [
        {
          "output_type": "execute_result",
          "data": {
            "text/plain": [
              "<folium.folium.Map at 0x7b9332ea3040>"
            ],
            "text/html": [
              "<div style=\"width:100%;\"><div style=\"position:relative;width:100%;height:0;padding-bottom:60%;\"><span style=\"color:#565656\">Make this Notebook Trusted to load map: File -> Trust Notebook</span><iframe srcdoc=\"&lt;!DOCTYPE html&gt;\n",
              "&lt;html&gt;\n",
              "&lt;head&gt;\n",
              "    \n",
              "    &lt;meta http-equiv=&quot;content-type&quot; content=&quot;text/html; charset=UTF-8&quot; /&gt;\n",
              "    \n",
              "        &lt;script&gt;\n",
              "            L_NO_TOUCH = false;\n",
              "            L_DISABLE_3D = false;\n",
              "        &lt;/script&gt;\n",
              "    \n",
              "    &lt;style&gt;html, body {width: 100%;height: 100%;margin: 0;padding: 0;}&lt;/style&gt;\n",
              "    &lt;style&gt;#map {position:absolute;top:0;bottom:0;right:0;left:0;}&lt;/style&gt;\n",
              "    &lt;script src=&quot;https://cdn.jsdelivr.net/npm/leaflet@1.9.3/dist/leaflet.js&quot;&gt;&lt;/script&gt;\n",
              "    &lt;script src=&quot;https://code.jquery.com/jquery-1.12.4.min.js&quot;&gt;&lt;/script&gt;\n",
              "    &lt;script src=&quot;https://cdn.jsdelivr.net/npm/bootstrap@5.2.2/dist/js/bootstrap.bundle.min.js&quot;&gt;&lt;/script&gt;\n",
              "    &lt;script src=&quot;https://cdnjs.cloudflare.com/ajax/libs/Leaflet.awesome-markers/2.0.2/leaflet.awesome-markers.js&quot;&gt;&lt;/script&gt;\n",
              "    &lt;link rel=&quot;stylesheet&quot; href=&quot;https://cdn.jsdelivr.net/npm/leaflet@1.9.3/dist/leaflet.css&quot;/&gt;\n",
              "    &lt;link rel=&quot;stylesheet&quot; href=&quot;https://cdn.jsdelivr.net/npm/bootstrap@5.2.2/dist/css/bootstrap.min.css&quot;/&gt;\n",
              "    &lt;link rel=&quot;stylesheet&quot; href=&quot;https://netdna.bootstrapcdn.com/bootstrap/3.0.0/css/bootstrap.min.css&quot;/&gt;\n",
              "    &lt;link rel=&quot;stylesheet&quot; href=&quot;https://cdn.jsdelivr.net/npm/@fortawesome/fontawesome-free@6.2.0/css/all.min.css&quot;/&gt;\n",
              "    &lt;link rel=&quot;stylesheet&quot; href=&quot;https://cdnjs.cloudflare.com/ajax/libs/Leaflet.awesome-markers/2.0.2/leaflet.awesome-markers.css&quot;/&gt;\n",
              "    &lt;link rel=&quot;stylesheet&quot; href=&quot;https://cdn.jsdelivr.net/gh/python-visualization/folium/folium/templates/leaflet.awesome.rotate.min.css&quot;/&gt;\n",
              "    \n",
              "            &lt;meta name=&quot;viewport&quot; content=&quot;width=device-width,\n",
              "                initial-scale=1.0, maximum-scale=1.0, user-scalable=no&quot; /&gt;\n",
              "            &lt;style&gt;\n",
              "                #map_8084bb5986fc145c8cede421a4aa1dca {\n",
              "                    position: relative;\n",
              "                    width: 100.0%;\n",
              "                    height: 100.0%;\n",
              "                    left: 0.0%;\n",
              "                    top: 0.0%;\n",
              "                }\n",
              "                .leaflet-container { font-size: 1rem; }\n",
              "            &lt;/style&gt;\n",
              "        \n",
              "&lt;/head&gt;\n",
              "&lt;body&gt;\n",
              "    \n",
              "    \n",
              "            &lt;div class=&quot;folium-map&quot; id=&quot;map_8084bb5986fc145c8cede421a4aa1dca&quot; &gt;&lt;/div&gt;\n",
              "        \n",
              "&lt;/body&gt;\n",
              "&lt;script&gt;\n",
              "    \n",
              "    \n",
              "            var map_8084bb5986fc145c8cede421a4aa1dca = L.map(\n",
              "                &quot;map_8084bb5986fc145c8cede421a4aa1dca&quot;,\n",
              "                {\n",
              "                    center: [12.9716, 77.5946],\n",
              "                    crs: L.CRS.EPSG3857,\n",
              "                    zoom: 15,\n",
              "                    zoomControl: true,\n",
              "                    preferCanvas: false,\n",
              "                }\n",
              "            );\n",
              "\n",
              "            \n",
              "\n",
              "        \n",
              "    \n",
              "            var tile_layer_ea2ee866ab57fa34ecf7cae13b4fbeef = L.tileLayer(\n",
              "                &quot;https://{s}.tile.openstreetmap.org/{z}/{x}/{y}.png&quot;,\n",
              "                {&quot;attribution&quot;: &quot;Data by \\u0026copy; \\u003ca target=\\&quot;_blank\\&quot; href=\\&quot;http://openstreetmap.org\\&quot;\\u003eOpenStreetMap\\u003c/a\\u003e, under \\u003ca target=\\&quot;_blank\\&quot; href=\\&quot;http://www.openstreetmap.org/copyright\\&quot;\\u003eODbL\\u003c/a\\u003e.&quot;, &quot;detectRetina&quot;: false, &quot;maxNativeZoom&quot;: 18, &quot;maxZoom&quot;: 18, &quot;minZoom&quot;: 0, &quot;noWrap&quot;: false, &quot;opacity&quot;: 1, &quot;subdomains&quot;: &quot;abc&quot;, &quot;tms&quot;: false}\n",
              "            ).addTo(map_8084bb5986fc145c8cede421a4aa1dca);\n",
              "        \n",
              "    \n",
              "            var marker_2f631150fc01ffc3ff9a809f1cfe6fda = L.marker(\n",
              "                [12.9716, 77.5946],\n",
              "                {}\n",
              "            ).addTo(map_8084bb5986fc145c8cede421a4aa1dca);\n",
              "        \n",
              "    \n",
              "        var popup_3c4b888f6dd402e38f3b5476f9571d3d = L.popup({&quot;maxWidth&quot;: &quot;100%&quot;});\n",
              "\n",
              "        \n",
              "            \n",
              "                var html_ed6fe55aec2b8e4616ae3ba16df2efce = $(`&lt;div id=&quot;html_ed6fe55aec2b8e4616ae3ba16df2efce&quot; style=&quot;width: 100.0%; height: 100.0%;&quot;&gt;Your Place&lt;/div&gt;`)[0];\n",
              "                popup_3c4b888f6dd402e38f3b5476f9571d3d.setContent(html_ed6fe55aec2b8e4616ae3ba16df2efce);\n",
              "            \n",
              "        \n",
              "\n",
              "        marker_2f631150fc01ffc3ff9a809f1cfe6fda.bindPopup(popup_3c4b888f6dd402e38f3b5476f9571d3d)\n",
              "        ;\n",
              "\n",
              "        \n",
              "    \n",
              "    \n",
              "            var marker_32fdc4f67d5c15e7014ab06224bdb259 = L.marker(\n",
              "                [12.951303, 77.587866],\n",
              "                {}\n",
              "            ).addTo(map_8084bb5986fc145c8cede421a4aa1dca);\n",
              "        \n",
              "    \n",
              "            var icon_48730e87d9b832d4e9727b95bde3a36e = L.AwesomeMarkers.icon(\n",
              "                {&quot;extraClasses&quot;: &quot;fa-rotate-0&quot;, &quot;icon&quot;: &quot;info-sign&quot;, &quot;iconColor&quot;: &quot;white&quot;, &quot;markerColor&quot;: &quot;black&quot;, &quot;prefix&quot;: &quot;glyphicon&quot;}\n",
              "            );\n",
              "            marker_32fdc4f67d5c15e7014ab06224bdb259.setIcon(icon_48730e87d9b832d4e9727b95bde3a36e);\n",
              "        \n",
              "    \n",
              "        var popup_ba059c15da3a07926352dc5750b1db6c = L.popup({&quot;maxWidth&quot;: 2650});\n",
              "\n",
              "        \n",
              "            \n",
              "                var i_frame_1453999f4d374cfebbec4c632efe9985 = $(`&lt;iframe src=&quot;data:text/html;charset=utf-8;base64,CiAgICA8aW1nIHNyYz0iaHR0cHM6Ly9zdGF0aWMudG9paW1nLmNvbS9waG90by8yNDQ4MzIwNS5jbXMiIGFsdD0ibGFsIGJhZ2giIHN0eWxlPSJ3aWR0aDoxMDBweDtoZWlnaHQ6MTAwcHg7Ij48YnI+bGFsIGJhZ2g=&quot; width=&quot;200&quot; style=&quot;border:none !important;&quot; height=&quot;150&quot;&gt;&lt;/iframe&gt;`)[0];\n",
              "                popup_ba059c15da3a07926352dc5750b1db6c.setContent(i_frame_1453999f4d374cfebbec4c632efe9985);\n",
              "            \n",
              "        \n",
              "\n",
              "        marker_32fdc4f67d5c15e7014ab06224bdb259.bindPopup(popup_ba059c15da3a07926352dc5750b1db6c)\n",
              "        ;\n",
              "\n",
              "        \n",
              "    \n",
              "    \n",
              "            var marker_327e1bec1c26b132d7a17f2151ab6936 = L.marker(\n",
              "                [12.9796, 77.5908],\n",
              "                {}\n",
              "            ).addTo(map_8084bb5986fc145c8cede421a4aa1dca);\n",
              "        \n",
              "    \n",
              "            var icon_1746d4bb277501d76e95e313a3ab9ed7 = L.AwesomeMarkers.icon(\n",
              "                {&quot;extraClasses&quot;: &quot;fa-rotate-0&quot;, &quot;icon&quot;: &quot;info-sign&quot;, &quot;iconColor&quot;: &quot;white&quot;, &quot;markerColor&quot;: &quot;black&quot;, &quot;prefix&quot;: &quot;glyphicon&quot;}\n",
              "            );\n",
              "            marker_327e1bec1c26b132d7a17f2151ab6936.setIcon(icon_1746d4bb277501d76e95e313a3ab9ed7);\n",
              "        \n",
              "    \n",
              "        var popup_29989d2a40e2ce413096410d733fde45 = L.popup({&quot;maxWidth&quot;: 2650});\n",
              "\n",
              "        \n",
              "            \n",
              "                var i_frame_bb777bc4b2c41663aa438df3e66f7700 = $(`&lt;iframe src=&quot;data:text/html;charset=utf-8;base64,CiAgICA8aW1nIHNyYz0iaHR0cHM6Ly9rYXJuYXRha2F0b3VyaXNtLm9yZy93cC1jb250ZW50L3VwbG9hZHMvMjAyMC8wNi9CZW5nYWx1cnUtTGFsYmhhZy0xLmpwZyIgYWx0PSJ2aWRoYW5hIHNvdWRoYSIgc3R5bGU9IndpZHRoOjEwMHB4O2hlaWdodDoxMDBweDsiPjxicj52aWRoYW5hIHNvdWRoYQ==&quot; width=&quot;200&quot; style=&quot;border:none !important;&quot; height=&quot;150&quot;&gt;&lt;/iframe&gt;`)[0];\n",
              "                popup_29989d2a40e2ce413096410d733fde45.setContent(i_frame_bb777bc4b2c41663aa438df3e66f7700);\n",
              "            \n",
              "        \n",
              "\n",
              "        marker_327e1bec1c26b132d7a17f2151ab6936.bindPopup(popup_29989d2a40e2ce413096410d733fde45)\n",
              "        ;\n",
              "\n",
              "        \n",
              "    \n",
              "&lt;/script&gt;\n",
              "&lt;/html&gt;\" style=\"position:absolute;width:100%;height:100%;left:0;top:0;border:none !important;\" allowfullscreen webkitallowfullscreen mozallowfullscreen></iframe></div></div>"
            ]
          },
          "metadata": {},
          "execution_count": 36
        }
      ]
    },
    {
      "cell_type": "code",
      "source": [],
      "metadata": {
        "id": "2uCrGlmufrel"
      },
      "execution_count": null,
      "outputs": []
    }
  ]
}