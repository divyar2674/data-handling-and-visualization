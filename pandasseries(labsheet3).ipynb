{
  "nbformat": 4,
  "nbformat_minor": 0,
  "metadata": {
    "colab": {
      "provenance": [],
      "authorship_tag": "ABX9TyOgnhyNKz86fgs9etx1iyBP",
      "include_colab_link": true
    },
    "kernelspec": {
      "name": "python3",
      "display_name": "Python 3"
    },
    "language_info": {
      "name": "python"
    }
  },
  "cells": [
    {
      "cell_type": "markdown",
      "metadata": {
        "id": "view-in-github",
        "colab_type": "text"
      },
      "source": [
        "<a href=\"https://colab.research.google.com/github/divyar2674/data-handling-and-visualization/blob/main/pandasseries(labsheet3).ipynb\" target=\"_parent\"><img src=\"https://colab.research.google.com/assets/colab-badge.svg\" alt=\"Open In Colab\"/></a>"
      ]
    },
    {
      "cell_type": "code",
      "execution_count": null,
      "metadata": {
        "id": "Jt8H6nrRHvKL"
      },
      "outputs": [],
      "source": [
        "import pandas as s\n"
      ]
    },
    {
      "cell_type": "code",
      "source": [
        "A=[1,7.2,2]\n",
        "myvar=s.Series(A)\n",
        "print(myvar)"
      ],
      "metadata": {
        "colab": {
          "base_uri": "https://localhost:8080/"
        },
        "id": "Gd-kwIWVH2o0",
        "outputId": "f73db873-2ff3-4146-8c84-46b4ff239051"
      },
      "execution_count": null,
      "outputs": [
        {
          "output_type": "stream",
          "name": "stdout",
          "text": [
            "0    1.0\n",
            "1    7.2\n",
            "2    2.0\n",
            "dtype: float64\n"
          ]
        }
      ]
    },
    {
      "cell_type": "code",
      "source": [
        "print(myvar[0])"
      ],
      "metadata": {
        "colab": {
          "base_uri": "https://localhost:8080/"
        },
        "id": "ufatBrl-IM-U",
        "outputId": "a3d2157d-f4e2-42a4-a00f-ab027fea7da4"
      },
      "execution_count": null,
      "outputs": [
        {
          "output_type": "stream",
          "name": "stdout",
          "text": [
            "1.0\n"
          ]
        }
      ]
    },
    {
      "cell_type": "code",
      "source": [],
      "metadata": {
        "id": "PE74cmzMJWIf"
      },
      "execution_count": null,
      "outputs": []
    },
    {
      "cell_type": "code",
      "source": [
        "#create labels\n",
        "myvar=s.Series(A,index=[\"x\",\"y\",\"z\"])\n",
        "print(myvar)"
      ],
      "metadata": {
        "colab": {
          "base_uri": "https://localhost:8080/"
        },
        "id": "P3I7oA6SIh58",
        "outputId": "21ebcc7c-9a46-401d-da49-8e2e625d7985"
      },
      "execution_count": null,
      "outputs": [
        {
          "output_type": "stream",
          "name": "stdout",
          "text": [
            "x    1.0\n",
            "y    7.2\n",
            "z    2.0\n",
            "dtype: float64\n"
          ]
        }
      ]
    },
    {
      "cell_type": "code",
      "source": [
        "print(myvar['y'])\n",
        "\n"
      ],
      "metadata": {
        "colab": {
          "base_uri": "https://localhost:8080/"
        },
        "id": "2k7PlJ0OImOL",
        "outputId": "7ddddf3f-78b6-445d-efeb-1e4d2e2e8ce9"
      },
      "execution_count": null,
      "outputs": [
        {
          "output_type": "stream",
          "name": "stdout",
          "text": [
            "7.2\n"
          ]
        }
      ]
    },
    {
      "cell_type": "code",
      "source": [
        "#dictionary\n",
        "dict={\"brand\":\"audi\",\"model\":\"Q3\",\"year\":\"dono\"}\n",
        "print(dict)"
      ],
      "metadata": {
        "colab": {
          "base_uri": "https://localhost:8080/"
        },
        "id": "wzg6ieL6JEkr",
        "outputId": "2089cd29-50bf-4f45-80bc-ee891768ec2e"
      },
      "execution_count": null,
      "outputs": [
        {
          "output_type": "stream",
          "name": "stdout",
          "text": [
            "{'brand': 'audi', 'model': 'Q3', 'year': 'dono'}\n"
          ]
        }
      ]
    },
    {
      "cell_type": "code",
      "source": [
        "import pandas as p\n",
        "s1=p.Series([-3,-2,1,3,5,'go',7.3])"
      ],
      "metadata": {
        "id": "qbwlpPB8KoJb"
      },
      "execution_count": null,
      "outputs": []
    },
    {
      "cell_type": "code",
      "source": [
        "print(s1)"
      ],
      "metadata": {
        "colab": {
          "base_uri": "https://localhost:8080/"
        },
        "id": "YF7rr4F80Q9G",
        "outputId": "7367b751-ba2a-45e3-d068-47540a0cff13"
      },
      "execution_count": null,
      "outputs": [
        {
          "output_type": "stream",
          "name": "stdout",
          "text": [
            "0     -3\n",
            "1     -2\n",
            "2      1\n",
            "3      3\n",
            "4      5\n",
            "5     go\n",
            "6    7.3\n",
            "dtype: object\n"
          ]
        }
      ]
    },
    {
      "cell_type": "code",
      "source": [
        "print(s1[2])"
      ],
      "metadata": {
        "colab": {
          "base_uri": "https://localhost:8080/"
        },
        "id": "1ZRqJULy1Gq-",
        "outputId": "5f00a876-5472-407a-f4cf-5a40dae1cc94"
      },
      "execution_count": null,
      "outputs": [
        {
          "output_type": "stream",
          "name": "stdout",
          "text": [
            "1\n"
          ]
        }
      ]
    },
    {
      "cell_type": "code",
      "source": [
        "calories={\"day1\":420,\"day2\":380,\"day3\":390}\n",
        "myvar=p.Series(calories)\n"
      ],
      "metadata": {
        "id": "gnFRQ16r1VAW"
      },
      "execution_count": null,
      "outputs": []
    },
    {
      "cell_type": "code",
      "source": [
        "print(myvar)"
      ],
      "metadata": {
        "colab": {
          "base_uri": "https://localhost:8080/"
        },
        "id": "AmkVjwFi2YPt",
        "outputId": "45780bea-8e34-41b7-d281-1fd869bd5cae"
      },
      "execution_count": null,
      "outputs": [
        {
          "output_type": "stream",
          "name": "stdout",
          "text": [
            "day1    420\n",
            "day2    380\n",
            "day3    390\n",
            "dtype: int64\n"
          ]
        }
      ]
    },
    {
      "cell_type": "code",
      "source": [
        "s1=p.Series([-3,-2,1,3,5,'go',7.3])\n",
        "print(s1[:2])\n",
        "\n",
        "print(s1[[2,1,0]])"
      ],
      "metadata": {
        "colab": {
          "base_uri": "https://localhost:8080/"
        },
        "id": "E0fC5BBT2bP1",
        "outputId": "226d2760-88df-41b0-a233-5f29747a5216"
      },
      "execution_count": null,
      "outputs": [
        {
          "output_type": "stream",
          "name": "stdout",
          "text": [
            "0    -3\n",
            "1    -2\n",
            "dtype: object\n",
            "2     1\n",
            "1    -2\n",
            "0    -3\n",
            "dtype: object\n"
          ]
        }
      ]
    },
    {
      "cell_type": "code",
      "source": [
        "#alternative way of creating series\n",
        "s=p.Series([1,2,3,4,5],index=['a','b','c','d','e'])\n",
        "print(s['a'])"
      ],
      "metadata": {
        "colab": {
          "base_uri": "https://localhost:8080/"
        },
        "id": "EsVTy1LV20uu",
        "outputId": "ba637c0c-f970-41d0-eaff-89dd8acc2b63"
      },
      "execution_count": null,
      "outputs": [
        {
          "output_type": "stream",
          "name": "stdout",
          "text": [
            "1\n"
          ]
        }
      ]
    },
    {
      "cell_type": "code",
      "source": [
        "#data frame\n",
        "data={\"calories\":[420,380,390],\"duration\":[50,40,45]}\n",
        "pd=p.DataFrame(data)\n",
        "print(pd)"
      ],
      "metadata": {
        "colab": {
          "base_uri": "https://localhost:8080/"
        },
        "id": "NObGXooU3K_G",
        "outputId": "6487cdb1-46db-4b95-ee37-f6ab691c2074"
      },
      "execution_count": null,
      "outputs": [
        {
          "output_type": "stream",
          "name": "stdout",
          "text": [
            "   calories  duration\n",
            "0       420        50\n",
            "1       380        40\n",
            "2       390        45\n"
          ]
        }
      ]
    },
    {
      "cell_type": "code",
      "source": [
        "#dataframe with customized index\n",
        "data={'name':['Tom','Jack','Steve','Ricky'],'Age':[29,34,29,42]}\n",
        "df=p.DataFrame(data,index=['rank1','rank2','rank3','rank4'])"
      ],
      "metadata": {
        "id": "TvWtLnL73hvG"
      },
      "execution_count": null,
      "outputs": []
    },
    {
      "cell_type": "code",
      "source": [
        "print(df)"
      ],
      "metadata": {
        "colab": {
          "base_uri": "https://localhost:8080/"
        },
        "id": "JD92R2o24mYW",
        "outputId": "0967f0a1-cc01-4a3a-af44-6b7cb341bf22"
      },
      "execution_count": null,
      "outputs": [
        {
          "output_type": "stream",
          "name": "stdout",
          "text": [
            "        name  Age\n",
            "rank1    Tom   29\n",
            "rank2   Jack   34\n",
            "rank3  Steve   29\n",
            "rank4  Ricky   42\n"
          ]
        }
      ]
    },
    {
      "cell_type": "code",
      "source": [
        "print(myvar.loc[\"day2\"])"
      ],
      "metadata": {
        "colab": {
          "base_uri": "https://localhost:8080/"
        },
        "id": "P2C4OSgO4vb2",
        "outputId": "9225c673-d7ee-4e63-f2c1-c41d05ba9d49"
      },
      "execution_count": null,
      "outputs": [
        {
          "output_type": "stream",
          "name": "stdout",
          "text": [
            "380\n"
          ]
        }
      ]
    },
    {
      "cell_type": "code",
      "source": [
        "#Add new column\n",
        "df['ID']=[10,10,30,40]\n",
        "print(df)"
      ],
      "metadata": {
        "colab": {
          "base_uri": "https://localhost:8080/"
        },
        "id": "9rPI96Ev42KW",
        "outputId": "bf1c49b5-03b9-42fe-c8e3-8b7176bdc6de"
      },
      "execution_count": null,
      "outputs": [
        {
          "output_type": "stream",
          "name": "stdout",
          "text": [
            "        name  Age  ID\n",
            "rank1    Tom   29  10\n",
            "rank2   Jack   34  10\n",
            "rank3  Steve   29  30\n",
            "rank4  Ricky   42  40\n"
          ]
        }
      ]
    },
    {
      "cell_type": "code",
      "source": [
        "#check unique values in column\n",
        "df['ID'].unique()"
      ],
      "metadata": {
        "colab": {
          "base_uri": "https://localhost:8080/"
        },
        "id": "5bggDHcn5AXC",
        "outputId": "2f426700-fae6-426b-fce0-15be89a9160c"
      },
      "execution_count": null,
      "outputs": [
        {
          "output_type": "execute_result",
          "data": {
            "text/plain": [
              "array([10, 30, 40])"
            ]
          },
          "metadata": {},
          "execution_count": 29
        }
      ]
    },
    {
      "cell_type": "code",
      "source": [
        "#frequency\n",
        "df['ID'].value_counts()\n"
      ],
      "metadata": {
        "colab": {
          "base_uri": "https://localhost:8080/"
        },
        "id": "Hph7maRC5SRe",
        "outputId": "ecc05a52-7977-451d-cadb-d29092c7231a"
      },
      "execution_count": null,
      "outputs": [
        {
          "output_type": "execute_result",
          "data": {
            "text/plain": [
              "10    2\n",
              "30    1\n",
              "40    1\n",
              "Name: ID, dtype: int64"
            ]
          },
          "metadata": {},
          "execution_count": 35
        }
      ]
    },
    {
      "cell_type": "code",
      "source": [
        "df.size"
      ],
      "metadata": {
        "colab": {
          "base_uri": "https://localhost:8080/"
        },
        "id": "oBaYhHVm5ctG",
        "outputId": "0cd20fe8-432e-4f2c-a33b-13002e269592"
      },
      "execution_count": null,
      "outputs": [
        {
          "output_type": "execute_result",
          "data": {
            "text/plain": [
              "12"
            ]
          },
          "metadata": {},
          "execution_count": 37
        }
      ]
    },
    {
      "cell_type": "code",
      "source": [],
      "metadata": {
        "id": "_CIeJz9q7bAG"
      },
      "execution_count": null,
      "outputs": []
    }
  ]
}